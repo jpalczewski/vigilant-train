{
 "cells": [
  {
   "cell_type": "code",
   "execution_count": 3,
   "metadata": {
    "collapsed": true
   },
   "outputs": [],
   "source": [
    "import pymongo\n",
    "import os\n",
    "from pathlib import Path"
   ]
  },
  {
   "cell_type": "code",
   "execution_count": 4,
   "metadata": {},
   "outputs": [],
   "source": [
    "client = pymongo.MongoClient('mongodb://localhost:27017/')\n",
    "files = client.files.files\n",
    "\n",
    "def insert_file(language, content, hash):\n",
    "        files.insert_one({'language':language, 'content':content, 'hash': hash})"
   ]
  },
  {
   "cell_type": "code",
   "execution_count": 105,
   "metadata": {
    "collapsed": true
   },
   "outputs": [
    {
     "name": "stdout",
     "output_type": "stream",
     "text": [
      "data/Incoming/php/6f0a3d686fd6086e553ab77602ba2475.php  to nie unikod lub  'utf-8' codec can't decode byte 0xef in position 807: invalid continuation byte\ndata/Incoming/php/86959596195fbea17d78ed73a2251692.php  to nie unikod lub  'utf-8' codec can't decode byte 0xc9 in position 71: invalid continuation byte\n"
     ]
    },
    {
     "name": "stdout",
     "output_type": "stream",
     "text": [
      "data/Incoming/php/1538f0c18683fac88397a90327ef486e.php  to nie unikod lub  'utf-8' codec can't decode byte 0xa7 in position 39834: invalid start byte\ndata/Incoming/php/6fdae8fe005eeb51e868d6eb50c88e08.php  to nie unikod lub  'utf-8' codec can't decode byte 0xf0 in position 1246: invalid continuation byte\ndata/Incoming/php/70c8201b08e791fd9b4a406e6bae675b.php  to nie unikod lub  'utf-8' codec can't decode byte 0xf0 in position 75: invalid continuation byte\ndata/Incoming/php/fe3fd12f9d9344446f140a5a7038ac6f.php  to nie unikod lub  'utf-8' codec can't decode byte 0xf0 in position 126: invalid continuation byte\ndata/Incoming/php/72515a17a90dc75d8b7e8096a03f81cc.php  to nie unikod lub  'utf-8' codec can't decode byte 0xe9 in position 82776: invalid continuation byte\ndata/Incoming/php/f1110eb4c9cf673ec837e44b07fae06a.php  to nie unikod lub  'utf-8' codec can't decode byte 0xe6 in position 306: invalid continuation byte\ndata/Incoming/php/a543c407ae20bd085fab4cbbe3c6d34a.php  to nie unikod lub  'utf-8' codec can't decode byte 0xf3 in position 95: invalid continuation byte\ndata/Incoming/php/227c810140f95299c24de292e6caeee1.php  to nie unikod lub  'utf-8' codec can't decode byte 0xe6 in position 557: invalid continuation byte\ndata/Incoming/php/5299a2e8a2930a3ab4680abca564f2b6.php  to nie unikod lub  'utf-8' codec can't decode byte 0xed in position 631: invalid continuation byte\ndata/Incoming/php/4f528afe85e4565ce018c8c244a6159a.php  to nie unikod lub  'utf-8' codec can't decode byte 0x95 in position 847: invalid start byte\ndata/Incoming/php/621703ac6887cbfe8be2506ce96d567a.php  to nie unikod lub  'utf-8' codec can't decode byte 0xc1 in position 180: invalid start byte\ndata/Incoming/php/2ae35cc2d323a13f64b2757026483687.php  to nie unikod lub  'utf-8' codec can't decode byte 0xf6 in position 1853: invalid start byte\ndata/Incoming/php/771b5f84aefda0b9e03513f15cf4dee5.php  to nie unikod lub  'utf-8' codec can't decode byte 0xfa in position 1143: invalid start byte\ndata/Incoming/php/de7b3ba5129d2a37af082d65c9c82652.php  to nie unikod lub  'utf-8' codec can't decode byte 0xf0 in position 64: invalid continuation byte\ndata/Incoming/php/553c8bd594a9c193a0be8cbceb6a3ab2.php  to nie unikod lub  'utf-8' codec can't decode byte 0xe1 in position 792: invalid continuation byte\ndata/Incoming/php/85b171ee522e53ecc4b5ce654652b8a2.php  to nie unikod lub  'utf-8' codec can't decode byte 0xe6 in position 264: invalid continuation byte\ndata/Incoming/php/c20784826f3188b7776eb5bb9e25f407.php  to nie unikod lub  'utf-8' codec can't decode byte 0xfd in position 594: invalid start byte\ndata/Incoming/php/cf518b846b57a560145e12d324f9e423.php  to nie unikod lub  'utf-8' codec can't decode byte 0xe1 in position 602: invalid continuation byte\ndata/Incoming/php/3fe438b3b4dc0138d8822f60d131be68.php  to nie unikod lub  'utf-8' codec can't decode byte 0xf3 in position 145: invalid continuation byte\ndata/Incoming/php/fdeadfd47f17ab27ed1d718878922285.php  to nie unikod lub  'utf-8' codec can't decode byte 0xed in position 644: invalid continuation byte\ndata/Incoming/php/c16ba85cbe8c214a013875773b6eec9d.php  to nie unikod lub  'utf-8' codec can't decode byte 0xf0 in position 164: invalid continuation byte\ndata/Incoming/php/22c367c89c0382a3f5c7d4e1178bc0ad.php  to nie unikod lub  'utf-8' codec can't decode byte 0xf0 in position 164: invalid continuation byte\ndata/Incoming/php/8de4f1b8cc368412303564ac66570a7f.php  to nie unikod lub  'utf-8' codec can't decode byte 0xe1 in position 810: invalid continuation byte\ndata/Incoming/php/51583070f75a8d8831018f8ba4cbbf01.php  to nie unikod lub  'utf-8' codec can't decode byte 0xde in position 105: invalid continuation byte\ndata/Incoming/php/9c81c3112ebed4d5632972584f140800.php  to nie unikod lub  'utf-8' codec can't decode byte 0xf3 in position 153: invalid continuation byte\ndata/Incoming/php/5fe3aba752e8bddb4885e549125563bf.php  to nie unikod lub  'utf-8' codec can't decode byte 0xf0 in position 254: invalid continuation byte\ndata/Incoming/php/c62143b629841e732e8af09822e450f7.php  to nie unikod lub  'utf-8' codec can't decode byte 0xf0 in position 140: invalid continuation byte\ndata/Incoming/php/616e188f01b421fc046680eb382bcff3.php  to nie unikod lub  'utf-8' codec can't decode byte 0xf3 in position 81: invalid continuation byte\ndata/Incoming/php/c69400ec551e655674114c2fa806dc1f.php  to nie unikod lub  'utf-8' codec can't decode byte 0xf3 in position 69: invalid continuation byte\ndata/Incoming/php/680fd0e98f2ef36fa11ecbb065fe2ade.php  to nie unikod lub  'utf-8' codec can't decode byte 0xf6 in position 235: invalid start byte\ndata/Incoming/php/bece4cb33faf8f20c6cfccfff5c8e734.php  to nie unikod lub  'utf-8' codec can't decode byte 0xf0 in position 106: invalid continuation byte\ndata/Incoming/php/d58c05868c78a7e52733e570a7f47aad.php  to nie unikod lub  'utf-8' codec can't decode byte 0xf0 in position 131: invalid continuation byte\ndata/Incoming/php/20b06668a4e820420cd188c901ffd88c.php  to nie unikod lub  'utf-8' codec can't decode byte 0xf0 in position 212: invalid continuation byte\ndata/Incoming/php/e4ad0bbca790e53e53b757bae4de4da8.php  to nie unikod lub  'utf-8' codec can't decode byte 0xf0 in position 683: invalid continuation byte\ndata/Incoming/php/5c86a18514448b206d936acec847e880.php  to nie unikod lub  'utf-8' codec can't decode byte 0xc1 in position 21: invalid start byte\ndata/Incoming/php/7cdc624a0fa9fdb2b0b69e400c0fba24.php  to nie unikod lub  'utf-8' codec can't decode byte 0xde in position 443: invalid continuation byte\ndata/Incoming/php/ba061f365c80fe51518300b27cf7a676.php  to nie unikod lub  'utf-8' codec can't decode byte 0xf0 in position 120: invalid continuation byte\ndata/Incoming/php/de69a0d9cf8b8addaf4f8aef79a6ad37.php  to nie unikod lub  'utf-8' codec can't decode byte 0xf6 in position 138: invalid start byte\ndata/Incoming/php/4b1b126eb4ba5bae77ffb62445939ddc.php  to nie unikod lub  'utf-8' codec can't decode byte 0xf0 in position 140: invalid continuation byte\ndata/Incoming/php/d7a1a691ff84328aa149ddda6b520673.php  to nie unikod lub  'utf-8' codec can't decode byte 0xe1 in position 1402: invalid continuation byte\ndata/Incoming/php/85f49afcaebb6a535de4306085b39638.php  to nie unikod lub  'utf-8' codec can't decode byte 0xb0 in position 88: invalid start byte\ndata/Incoming/php/233ac3c9c9ca5f02ebb6de50e127873f.php  to nie unikod lub  'utf-8' codec can't decode byte 0xc1 in position 14: invalid start byte\ndata/Incoming/php/3b95d652bb8ab2f4b2686abc4ae3ce66.php  to nie unikod lub  'utf-8' codec can't decode byte 0xb4 in position 78: invalid start byte\ndata/Incoming/php/c7e4d63a72ff88e3e935202abd5151da.php  to nie unikod lub  'utf-8' codec can't decode byte 0xb6 in position 39: invalid start byte\n"
     ]
    },
    {
     "name": "stdout",
     "output_type": "stream",
     "text": [
      "data/Incoming/php/ba7a98e9107af5bbc562a058bee5de69.php  to nie unikod lub  'utf-8' codec can't decode byte 0xb5 in position 312: invalid start byte\ndata/Incoming/php/c766c2b5e9fbef078793cbe28369b6ca.php  to nie unikod lub  'utf-8' codec can't decode byte 0xb5 in position 1712: invalid start byte\n"
     ]
    },
    {
     "name": "stdout",
     "output_type": "stream",
     "text": [
      "data/Incoming/java/045c9928da45f4de2b0e1e134f25a121.java  to nie unikod lub  'utf-8' codec can't decode byte 0x95 in position 433: invalid start byte\ndata/Incoming/java/d5d37747c384ab0083fa3d024fe97164.java  to nie unikod lub  'utf-8' codec can't decode byte 0x95 in position 788: invalid start byte\n"
     ]
    },
    {
     "name": "stdout",
     "output_type": "stream",
     "text": [
      "data/Incoming/java/89487e054168ead58af7a2ae4119b7b9.java  to nie unikod lub  'utf-8' codec can't decode byte 0xb0 in position 1042: invalid start byte\n"
     ]
    },
    {
     "name": "stdout",
     "output_type": "stream",
     "text": [
      "data/Incoming/java/097fa6ad103b1fc3a67a5b2f89935d95.java  to nie unikod lub  'utf-8' codec can't decode byte 0xe4 in position 684: invalid continuation byte\ndata/Incoming/java/7db8437f59cd8b63da1af5096b97c27d.java  to nie unikod lub  'utf-8' codec can't decode byte 0xfc in position 294: invalid start byte\ndata/Incoming/java/01450529429153621646f08ef7d3d3a4.java  to nie unikod lub  'utf-8' codec can't decode byte 0xfc in position 220: invalid start byte\ndata/Incoming/java/eeba70933b90eddc86af7b07a181b6d8.java  to nie unikod lub  'utf-8' codec can't decode byte 0xfc in position 297: invalid start byte\ndata/Incoming/java/04f15c3cf6ee26f6ba3bd2512e55df59.java  to nie unikod lub  'utf-8' codec can't decode byte 0xfc in position 329: invalid start byte\ndata/Incoming/java/2bc80362fbd1d7ae2c64e5cc57f036f3.java  to nie unikod lub  'utf-8' codec can't decode byte 0xfc in position 291: invalid start byte\ndata/Incoming/java/5f8b268345a15dcf2be9809c750a823f.java  to nie unikod lub  'utf-8' codec can't decode byte 0xfc in position 291: invalid start byte\ndata/Incoming/java/b0cb005fadaba7c0a891efa8b413b658.java  to nie unikod lub  'utf-8' codec can't decode byte 0xfc in position 151: invalid start byte\ndata/Incoming/java/74125aef23b89f02007b86224befd4a9.java  to nie unikod lub  'utf-8' codec can't decode byte 0xfc in position 160: invalid start byte\ndata/Incoming/java/b50165ad38ec460af3b972371a8824e4.java  to nie unikod lub  'utf-8' codec can't decode byte 0xe4 in position 50: invalid continuation byte\ndata/Incoming/java/d24c15c5f9cb8a6cfc773475729ae015.java  to nie unikod lub  'utf-8' codec can't decode byte 0xe4 in position 50: invalid continuation byte\ndata/Incoming/java/f8a7617b56016395cf16a7c64a89c016.java  to nie unikod lub  'utf-8' codec can't decode byte 0xf6 in position 346: invalid start byte\ndata/Incoming/java/0a604db25e55f6ea3c66c2d0951ee432.java  to nie unikod lub  'utf-8' codec can't decode byte 0xfc in position 228: invalid start byte\ndata/Incoming/java/04d28d7c4d7f5697b8ca38b702d4a4c3.java  to nie unikod lub  'utf-8' codec can't decode byte 0xb7 in position 5828: invalid start byte\ndata/Incoming/java/67b4e54d5edcc87635d0d0ff0294f016.java  to nie unikod lub  'utf-8' codec can't decode byte 0xb9 in position 113: invalid start byte\ndata/Incoming/java/8011c22a206f53dbad885bbbc19d9ce2.java  to nie unikod lub  'utf-8' codec can't decode byte 0xd3 in position 148: invalid continuation byte\ndata/Incoming/java/fd55c58fd86ba9a8caa985b6fe0c9a3a.java  to nie unikod lub  'utf-8' codec can't decode byte 0xb8 in position 66: invalid start byte\ndata/Incoming/java/626c16886ec642e7cf750269afdc8939.java  to nie unikod lub  'utf-8' codec can't decode byte 0xd4 in position 76: invalid continuation byte\ndata/Incoming/java/9b2cd023003ea5be785251513b0cf22a.java  to nie unikod lub  'utf-8' codec can't decode byte 0xb4 in position 240: invalid start byte\ndata/Incoming/java/8544ba17311cbbe693f7888172d0424f.java  to nie unikod lub  'utf-8' codec can't decode byte 0xb7 in position 103: invalid start byte\ndata/Incoming/java/011bbd97dc1db04e4c8f849d88811c84.java  to nie unikod lub  'utf-8' codec can't decode byte 0xca in position 120: invalid continuation byte\ndata/Incoming/java/4faa58061683b12d32ee64b5f1db2ee1.java  to nie unikod lub  'utf-8' codec can't decode byte 0xb9 in position 83: invalid start byte\ndata/Incoming/java/f4adc0f1bd88e0d72bc8e3b547b45c38.java  to nie unikod lub  'utf-8' codec can't decode byte 0xb5 in position 107: invalid start byte\ndata/Incoming/java/da098a463c899bd1e15fbd5213d7fe59.java  to nie unikod lub  'utf-8' codec can't decode byte 0xba in position 123: invalid start byte\ndata/Incoming/java/6d6364338e14546c74d96ffad5f92a94.java  to nie unikod lub  'utf-8' codec can't decode byte 0xd5 in position 101: invalid continuation byte\ndata/Incoming/java/0cfd46868313b5740caf50c102265939.java  to nie unikod lub  'utf-8' codec can't decode byte 0xb0 in position 94: invalid start byte\ndata/Incoming/java/f5a6a1b5be59071ee746230c4ff7a994.java  to nie unikod lub  'utf-8' codec can't decode byte 0xbb in position 122: invalid start byte\ndata/Incoming/java/e7376862d23f7bffdc48bb6bf44435ef.java  to nie unikod lub  'utf-8' codec can't decode byte 0xb3 in position 104: invalid start byte\ndata/Incoming/java/37169f7975b41531fe376828fd0d07a9.java  to nie unikod lub  'utf-8' codec can't decode byte 0xd5 in position 93: invalid continuation byte\ndata/Incoming/java/d4d7704d87097d4aceb08f14b51664c6.java  to nie unikod lub  'utf-8' codec can't decode byte 0xb0 in position 115: invalid start byte\ndata/Incoming/java/ba261e6db9439e6d94b95e564febfe68.java  to nie unikod lub  'utf-8' codec can't decode byte 0xb7 in position 87: invalid start byte\ndata/Incoming/java/16479223da7a26ebd328a2172a22bea4.java  to nie unikod lub  'utf-8' codec can't decode byte 0xb1 in position 231: invalid start byte\ndata/Incoming/java/3544ba5d8e3b7ee4793e2249da331368.java  to nie unikod lub  'utf-8' codec can't decode byte 0xb1 in position 115: invalid start byte\ndata/Incoming/java/6f74cea3da6c8a207dcd4452c3e3bacd.java  to nie unikod lub  'utf-8' codec can't decode byte 0xb1 in position 107: invalid start byte\ndata/Incoming/java/e7df3d5e09582ab8ba5699db214fd8c4.java  to nie unikod lub  'utf-8' codec can't decode byte 0xb3 in position 143: invalid start byte\ndata/Incoming/java/0d3167cd613e5e96dff34b9fbe041b26.java  to nie unikod lub  'utf-8' codec can't decode byte 0xd3 in position 226: invalid continuation byte\ndata/Incoming/java/e91f3a70a4837b76262d59fba7c62a09.java  to nie unikod lub  'utf-8' codec can't decode byte 0xd3 in position 245: invalid continuation byte\ndata/Incoming/java/2a830a921800329250ed3516bdf112df.java  to nie unikod lub  'utf-8' codec can't decode byte 0xd3 in position 239: invalid continuation byte\ndata/Incoming/java/8151273ed8574d982bd425981fd43358.java  to nie unikod lub  'utf-8' codec can't decode byte 0xd0 in position 71: invalid continuation byte\ndata/Incoming/java/9e0578fa109e3c8ed7279f72e7c91903.java  to nie unikod lub  'utf-8' codec can't decode byte 0xc7 in position 65: invalid continuation byte\ndata/Incoming/java/cc85ad815469abc55f938291430c13e0.java  to nie unikod lub  'utf-8' codec can't decode byte 0xd3 in position 236: invalid continuation byte\ndata/Incoming/java/6e698eb86952d7457709b0b2effe965a.java  to nie unikod lub  'utf-8' codec can't decode byte 0xb4 in position 430: invalid start byte\ndata/Incoming/java/5788f4adda1f25339902932c5b266a9f.java  to nie unikod lub  'utf-8' codec can't decode byte 0xc3 in position 32: invalid continuation byte\ndata/Incoming/java/6fb76ae3fc6328c7f909a4ea6931b26c.java  to nie unikod lub  'utf-8' codec can't decode byte 0xb4 in position 434: invalid start byte\ndata/Incoming/java/a437154cb69aa55416356153194a512f.java  to nie unikod lub  'utf-8' codec can't decode byte 0xb4 in position 96: invalid start byte\ndata/Incoming/java/ee2ca56c2508840ce6b0dd90a801a463.java  to nie unikod lub  'utf-8' codec can't decode byte 0xce in position 110: invalid continuation byte\ndata/Incoming/java/da6eaeb9a4b633292ed27620c296f919.java  to nie unikod lub  'utf-8' codec can't decode bytes in position 259-260: invalid continuation byte\ndata/Incoming/java/11a0f39939d4b003eaf8f106703ceba2.java  to nie unikod lub  'utf-8' codec can't decode byte 0xd5 in position 178: invalid continuation byte\ndata/Incoming/java/c830029518f215ccc5a2818d624a856d.java  to nie unikod lub  'utf-8' codec can't decode byte 0xd5 in position 176: invalid continuation byte\ndata/Incoming/java/278f3d76cb4090cfbae6027ef5686560.java  to nie unikod lub  'utf-8' codec can't decode byte 0xd5 in position 178: invalid continuation byte\ndata/Incoming/java/6f3186609a77198320fe73eea4dc3b3d.java  to nie unikod lub  'utf-8' codec can't decode byte 0xb4 in position 95: invalid start byte\ndata/Incoming/java/d5432d5634f75ee6e6e17ffd318ca812.java  to nie unikod lub  'utf-8' codec can't decode byte 0xc0 in position 96: invalid start byte\ndata/Incoming/java/2c50895d51cfe75f7bc4b8d64d076956.java  to nie unikod lub  'utf-8' codec can't decode byte 0xb4 in position 88: invalid start byte\ndata/Incoming/java/4506680f79244ea2cd30f44f517540fa.java  to nie unikod lub  'utf-8' codec can't decode byte 0xc9 in position 89: invalid continuation byte\ndata/Incoming/java/aa4a603f03feefa20c8833e716ef5f88.java  to nie unikod lub  'utf-8' codec can't decode byte 0xb4 in position 93: invalid start byte\ndata/Incoming/java/ae79d7395e169c8ac6fe498c6b5f5d6a.java  to nie unikod lub  'utf-8' codec can't decode byte 0xca in position 385: invalid continuation byte\ndata/Incoming/java/d4f2448f8fc1c4626decb72e183f849d.java  to nie unikod lub  'utf-8' codec can't decode byte 0xb3 in position 25: invalid start byte\ndata/Incoming/java/21c8cfdd97fd66515b66da4801bf1d69.java  to nie unikod lub  'utf-8' codec can't decode byte 0xb5 in position 94: invalid start byte\ndata/Incoming/java/0181a6d104e775a7a9fefa8eaa74422a.java  to nie unikod lub  'utf-8' codec can't decode byte 0xc3 in position 27: invalid continuation byte\ndata/Incoming/java/b15756c7eb0bd74656e90a38c0594a53.java  to nie unikod lub  'utf-8' codec can't decode byte 0xc3 in position 128: invalid continuation byte\ndata/Incoming/java/fa09fa55b05a82ffa8d69f3b0d866712.java  to nie unikod lub  'utf-8' codec can't decode byte 0xb4 in position 306: invalid start byte\ndata/Incoming/java/2e2a72975b172a5ec53a26c468820971.java  to nie unikod lub  'utf-8' codec can't decode byte 0xd0 in position 127: invalid continuation byte\ndata/Incoming/java/a381fe59e3f2b777dbbcc793f13e5ec1.java  to nie unikod lub  'utf-8' codec can't decode byte 0xbb in position 202: invalid start byte\ndata/Incoming/java/1ed25ba0e98dfcbf3c0d2541c957b9b5.java  to nie unikod lub  'utf-8' codec can't decode byte 0xba in position 137: invalid start byte\ndata/Incoming/java/f25d76631f56b82583f0d7d8583e24b7.java  to nie unikod lub  'utf-8' codec can't decode byte 0xc8 in position 269: invalid continuation byte\ndata/Incoming/java/e005cb2a97815c8ddc922b63f91a11a2.java  to nie unikod lub  'utf-8' codec can't decode byte 0xd6 in position 25: invalid continuation byte\n"
     ]
    },
    {
     "name": "stdout",
     "output_type": "stream",
     "text": [
      "data/Incoming/java/8cae03578460f0a37ac2399c85fc62f6.java  to nie unikod lub  'utf-8' codec can't decode byte 0xb2 in position 109: invalid start byte\n"
     ]
    },
    {
     "name": "stdout",
     "output_type": "stream",
     "text": [
      "data/Incoming/java/37b88e0e2aa7a166980e4dc295de8461.java  to nie unikod lub  'utf-8' codec can't decode byte 0xd3 in position 1345: invalid continuation byte\ndata/Incoming/java/1f3080fe8d9234da20336164135c97af.java  to nie unikod lub  'utf-8' codec can't decode byte 0xd3 in position 1015: invalid continuation byte\ndata/Incoming/java/1eaf53dff6baf2ec3ad3dc25b79ae947.java  to nie unikod lub  'utf-8' codec can't decode byte 0xd3 in position 1367: invalid continuation byte\ndata/Incoming/java/bc7c79680ddefcc5484f63a6a055f426.java  to nie unikod lub  'utf-8' codec can't decode byte 0xb8 in position 862: invalid start byte\ndata/Incoming/java/8aedb35e79249b733c8a9235ed84d2fb.java  to nie unikod lub  'utf-8' codec can't decode byte 0xcf in position 807: invalid continuation byte\ndata/Incoming/java/128f5521141224bb45c6c5c184304af5.java  to nie unikod lub  'utf-8' codec can't decode byte 0xb6 in position 132: invalid start byte\ndata/Incoming/java/d7864c1d7ad548577821c1ae4745d51d.java  to nie unikod lub  'utf-8' codec can't decode byte 0xb6 in position 1371: invalid start byte\ndata/Incoming/java/22393e8c57f69d1c1d14daaf49a5deaf.java  to nie unikod lub  'utf-8' codec can't decode byte 0xc1 in position 337: invalid start byte\ndata/Incoming/java/4fd8d36bbea59b19e06ff335bdaddad1.java  to nie unikod lub  'utf-8' codec can't decode byte 0xba in position 503: invalid start byte\n"
     ]
    },
    {
     "name": "stdout",
     "output_type": "stream",
     "text": [
      "data/Incoming/js/239f30bde37730d09191565bbe877ebd.js  to nie unikod lub  'utf-8' codec can't decode byte 0xff in position 0: invalid start byte\ndata/Incoming/js/6fe05eba7ca8972846fe8a225ff3e931.js  to nie unikod lub  'utf-8' codec can't decode byte 0xff in position 0: invalid start byte\ndata/Incoming/js/fd64ecb5b4b5539a026f8c2b55a7a8db.js  to nie unikod lub  'utf-8' codec can't decode byte 0xe9 in position 8: invalid continuation byte\ndata/Incoming/js/f7d0f1492c4ebafbd590c862357a97a2.js  to nie unikod lub  'utf-8' codec can't decode byte 0xe1 in position 38: invalid continuation byte\ndata/Incoming/js/2311bc10af2c66adb3cee808e09e4b25.js  to nie unikod lub  'utf-8' codec can't decode byte 0xda in position 696: invalid continuation byte\ndata/Incoming/js/08c585ba120670de806f68d6b183a601.js  to nie unikod lub  'utf-8' codec can't decode byte 0xf3 in position 31: invalid continuation byte\n"
     ]
    },
    {
     "name": "stdout",
     "output_type": "stream",
     "text": [
      "data/Incoming/js/c1baa0e1a0446cd9bc2ac9d82df04e9d.js  to nie unikod lub  'utf-8' codec can't decode byte 0xba in position 18916: invalid start byte\n"
     ]
    },
    {
     "name": "stdout",
     "output_type": "stream",
     "text": [
      "data/Incoming/js/06bc554a12cd62c7dace61f96e1712b8.js  to nie unikod lub  'utf-8' codec can't decode byte 0xff in position 0: invalid start byte\ndata/Incoming/js/f9ac8933153f2d2a31eb195673063197.js  to nie unikod lub  'utf-8' codec can't decode byte 0xc2 in position 113: invalid continuation byte\ndata/Incoming/js/58041a3bf7a066995baf88e882e24c56.js  to nie unikod lub  'utf-8' codec can't decode byte 0xc2 in position 83: invalid continuation byte\ndata/Incoming/js/c0f7459f8e2bc8576178089b50e07711.js  to nie unikod lub  'utf-8' codec can't decode byte 0xc2 in position 83: invalid continuation byte\ndata/Incoming/js/506ca09452f1cb13a151fa878c30890c.js  to nie unikod lub  'utf-8' codec can't decode byte 0xc2 in position 83: invalid continuation byte\ndata/Incoming/js/fc8aef0f9e46ebbb021a6ed20cf97d75.js  to nie unikod lub  'utf-8' codec can't decode byte 0xc2 in position 83: invalid continuation byte\ndata/Incoming/js/d8e4c00dae07782ed55b823d2a88d372.js  to nie unikod lub  'utf-8' codec can't decode byte 0xc2 in position 83: invalid continuation byte\ndata/Incoming/js/1062cc64d5908e339dceb86a551dd328.js  to nie unikod lub  'utf-8' codec can't decode byte 0xc2 in position 83: invalid continuation byte\ndata/Incoming/js/7b8eb65171410df2aa81da26bba8e2dc.js  to nie unikod lub  'utf-8' codec can't decode byte 0xc2 in position 95: invalid continuation byte\ndata/Incoming/js/3f675d1cb77eb3d77f8056bea5372c5d.js  to nie unikod lub  'utf-8' codec can't decode byte 0xc2 in position 83: invalid continuation byte\ndata/Incoming/js/89edd10b771494af5f99cd490d51c17a.js  to nie unikod lub  'utf-8' codec can't decode byte 0xc2 in position 83: invalid continuation byte\n"
     ]
    },
    {
     "name": "stdout",
     "output_type": "stream",
     "text": [
      "data/Incoming/js/26469f20a4f095150866c60987def77f.js  to nie unikod lub  'utf-8' codec can't decode byte 0xff in position 0: invalid start byte\ndata/Incoming/js/f413f4f85109bd131f750b2ee9902cd0.js  to nie unikod lub  'utf-8' codec can't decode byte 0xff in position 0: invalid start byte\ndata/Incoming/js/88a857b81ee215a0a77b13dd1bfb2b3e.js  to nie unikod lub  'utf-8' codec can't decode byte 0xff in position 0: invalid start byte\n"
     ]
    },
    {
     "name": "stdout",
     "output_type": "stream",
     "text": [
      "data/Incoming/js/b4bf63b443df8586278cc65547120c89.js  to nie unikod lub  'utf-8' codec can't decode byte 0xff in position 0: invalid start byte\ndata/Incoming/js/0e00b4056a3460232d4431ebb0ceb88c.js  to nie unikod lub  'utf-8' codec can't decode byte 0xff in position 0: invalid start byte\n"
     ]
    },
    {
     "name": "stdout",
     "output_type": "stream",
     "text": [
      "data/Incoming/js/2a84b11a6a18f517fa0c03102ec49d6b.js  to nie unikod lub  'utf-8' codec can't decode byte 0xf3 in position 10134: invalid continuation byte\n"
     ]
    },
    {
     "name": "stdout",
     "output_type": "stream",
     "text": [
      "data/Incoming/rb/b91b84e539ac79bcd273f9066b40ae86.rb  to nie unikod lub  'utf-8' codec can't decode byte 0xed in position 81: invalid continuation byte\ndata/Incoming/h/eea7e9da8562cff044a89a96fe870172.h  to nie unikod lub  'utf-8' codec can't decode byte 0xa0 in position 11: invalid start byte\ndata/Incoming/h/a25431a9139021a87ae7aea0104a3654.h  to nie unikod lub  'utf-8' codec can't decode byte 0xe9 in position 54: invalid continuation byte\n"
     ]
    },
    {
     "name": "stdout",
     "output_type": "stream",
     "text": [
      "data/Incoming/h/232eedef0f0e2462354d0031dba5aa21.h  to nie unikod lub  'utf-8' codec can't decode byte 0x95 in position 14: invalid start byte\ndata/Incoming/h/1b496de5ced52094fab702d2a7f7bdd3.h  to nie unikod lub  'utf-8' codec can't decode byte 0x92 in position 580: invalid start byte\n"
     ]
    },
    {
     "name": "stdout",
     "output_type": "stream",
     "text": [
      "data/Incoming/h/7841b14d43a1ea5cf705b2090db70474.h  to nie unikod lub  'utf-8' codec can't decode byte 0xbf in position 6989: invalid start byte\n"
     ]
    },
    {
     "name": "stdout",
     "output_type": "stream",
     "text": [
      "data/Incoming/h/5d888584b0fe72a2d3e5f33c625e3807.h  to nie unikod lub  'utf-8' codec can't decode byte 0xc3 in position 197: invalid continuation byte\ndata/Incoming/h/7aac506b6133faa88e19376c84f212b3.h  to nie unikod lub  'utf-8' codec can't decode byte 0x92 in position 4210: invalid start byte\ndata/Incoming/h/289cf26be1433a4a53b1aea82c8de873.h  to nie unikod lub  'utf-8' codec can't decode byte 0x97 in position 4845: invalid start byte\n"
     ]
    },
    {
     "name": "stdout",
     "output_type": "stream",
     "text": [
      "data/Incoming/h/f54288a5ad323ef9edeb656218d3e30a.h  to nie unikod lub  'utf-8' codec can't decode byte 0xff in position 0: invalid start byte\ndata/Incoming/h/bbe163ec4b29250e8e671520cd7a8068.h  to nie unikod lub  BSON document too large (21510711 bytes) - the connected server supports BSON document sizes up to 16793598 bytes.\n"
     ]
    },
    {
     "name": "stdout",
     "output_type": "stream",
     "text": [
      "data/Incoming/py/4a4b0dbd54ce665b368a9f1f0155a748.py  to nie unikod lub  'utf-8' codec can't decode byte 0xb1 in position 81: invalid start byte\n"
     ]
    },
    {
     "name": "stdout",
     "output_type": "stream",
     "text": [
      "data/Incoming/py/01663639707ef451b8268412853fa98e.py  to nie unikod lub  'utf-8' codec can't decode byte 0xb0 in position 37: invalid start byte\ndata/Incoming/py/8a4c8ea8137c7176ef7fbd15795eae12.py  to nie unikod lub  'utf-8' codec can't decode byte 0xb0 in position 37: invalid start byte\ndata/Incoming/py/5dadb1bce62237ceea1d81aa1002be51.py  to nie unikod lub  'utf-8' codec can't decode byte 0xb0 in position 37: invalid start byte\ndata/Incoming/py/aefa5df972d2a811e2caca7e2e908dd0.py  to nie unikod lub  'utf-8' codec can't decode byte 0xb0 in position 37: invalid start byte\ndata/Incoming/py/c7d854baa2e735adf6ef938282da6e68.py  to nie unikod lub  'utf-8' codec can't decode byte 0xb0 in position 37: invalid start byte\ndata/Incoming/py/4477a625319721a5b712e1566f14ec44.py  to nie unikod lub  'utf-8' codec can't decode byte 0xb0 in position 37: invalid start byte\ndata/Incoming/py/3feed56ca4adda919d9d1bef360403f5.py  to nie unikod lub  'utf-8' codec can't decode byte 0xb0 in position 37: invalid start byte\ndata/Incoming/py/491425f8745cfff2b881d8b4ccce5c94.py  to nie unikod lub  'utf-8' codec can't decode byte 0xb0 in position 37: invalid start byte\ndata/Incoming/py/521053abfac8940d477fc59953d5db23.py  to nie unikod lub  'utf-8' codec can't decode byte 0xb0 in position 37: invalid start byte\ndata/Incoming/py/9e9c6273745c55a3f8b79c63ca2ea123.py  to nie unikod lub  'utf-8' codec can't decode byte 0xb0 in position 37: invalid start byte\ndata/Incoming/py/90b0b9c7cab4636665958f5ef63d8e85.py  to nie unikod lub  'utf-8' codec can't decode byte 0xb0 in position 37: invalid start byte\ndata/Incoming/py/04257898600a196dad652b661e0948bf.py  to nie unikod lub  'utf-8' codec can't decode byte 0xb0 in position 37: invalid start byte\ndata/Incoming/py/c3d77fcc6fbaebc7bc35c953ee17c347.py  to nie unikod lub  'utf-8' codec can't decode byte 0xb0 in position 37: invalid start byte\ndata/Incoming/py/99d5e0f83c0c88eee59ae6095a5a023d.py  to nie unikod lub  'utf-8' codec can't decode byte 0xb0 in position 37: invalid start byte\ndata/Incoming/py/96ccd637b52b2c7b1b652d7d6258ca4c.py  to nie unikod lub  'utf-8' codec can't decode byte 0xb0 in position 37: invalid start byte\ndata/Incoming/py/a7342f5650bcd3f0005dbfbd51dd8748.py  to nie unikod lub  'utf-8' codec can't decode byte 0xb0 in position 37: invalid start byte\ndata/Incoming/py/b2b81ca1e7d84c2cdf99313784199516.py  to nie unikod lub  'utf-8' codec can't decode byte 0xb0 in position 37: invalid start byte\ndata/Incoming/py/5bec5a470e1ff305679b502c616a3e45.py  to nie unikod lub  'utf-8' codec can't decode byte 0xb0 in position 37: invalid start byte\ndata/Incoming/py/585852dd2f398c3b88211c6449e176da.py  to nie unikod lub  'utf-8' codec can't decode byte 0xb0 in position 37: invalid start byte\ndata/Incoming/py/734544f2513373da82d0ef64a1ec4c16.py  to nie unikod lub  'utf-8' codec can't decode byte 0xb0 in position 37: invalid start byte\ndata/Incoming/py/cfac01380fe659c13e8064bd349c45f6.py  to nie unikod lub  'utf-8' codec can't decode byte 0xb0 in position 37: invalid start byte\ndata/Incoming/py/18c228a07d0605beaacd32f3636e5cb4.py  to nie unikod lub  'utf-8' codec can't decode byte 0xb0 in position 37: invalid start byte\ndata/Incoming/py/e3160fcba3e2c52231551caa6136472e.py  to nie unikod lub  'utf-8' codec can't decode byte 0xb0 in position 37: invalid start byte\ndata/Incoming/py/4cfa297292f093997ae8a324c5590fdb.py  to nie unikod lub  'utf-8' codec can't decode byte 0xb0 in position 37: invalid start byte\ndata/Incoming/py/5462b75a2cfc65e0252cc80f59861e2e.py  to nie unikod lub  'utf-8' codec can't decode byte 0xb0 in position 37: invalid start byte\n"
     ]
    },
    {
     "name": "stdout",
     "output_type": "stream",
     "text": [
      "data/Incoming/py/fb574312ba3ba1d6babe70b26183de8a.py  to nie unikod lub  'utf-8' codec can't decode byte 0xa1 in position 681: invalid start byte\ndata/Incoming/py/bfcaa259eb70e90424ac458085e87cf3.py  to nie unikod lub  'utf-8' codec can't decode byte 0xb9 in position 3224: invalid start byte\ndata/Incoming/py/aeb381e849a841ad49d346144a6e17eb.py  to nie unikod lub  'utf-8' codec can't decode byte 0xd0 in position 3591: invalid continuation byte\n"
     ]
    },
    {
     "name": "stdout",
     "output_type": "stream",
     "text": [
      "data/Incoming/cpp/3c37be8d984bc8ffd6ac6c85286e0874.cpp  to nie unikod lub  'utf-8' codec can't decode byte 0xea in position 2922: invalid continuation byte\ndata/Incoming/cpp/3595cf1b9f52715a887da71a9215c4aa.cpp  to nie unikod lub  'utf-8' codec can't decode byte 0xa0 in position 15: invalid start byte\ndata/Incoming/cpp/b1af2f433c528a0ff3a875940c98ddde.cpp  to nie unikod lub  'utf-8' codec can't decode byte 0xa0 in position 13: invalid start byte\ndata/Incoming/cpp/d8aeacc0ba6cc5d68b7da3267b81a933.cpp  to nie unikod lub  'utf-8' codec can't decode byte 0x83 in position 245: invalid start byte\ndata/Incoming/cpp/6b9aa3dd967f0ae3897f9096c7323cee.cpp  to nie unikod lub  'utf-8' codec can't decode byte 0x83 in position 20: invalid start byte\ndata/Incoming/cpp/767983a257ae18e8e5f38bbd6ceba6a8.cpp  to nie unikod lub  'utf-8' codec can't decode byte 0x95 in position 16: invalid start byte\n"
     ]
    },
    {
     "name": "stdout",
     "output_type": "stream",
     "text": [
      "data/Incoming/cpp/de97685f5428ad21428786f3d0caf4c2.cpp  to nie unikod lub  'utf-8' codec can't decode byte 0x80 in position 24: invalid start byte\ndata/Incoming/cpp/1ae3c04681ba6d4553b383a1a8cb5be9.cpp  to nie unikod lub  'utf-8' codec can't decode byte 0xd5 in position 25951: invalid continuation byte\n"
     ]
    },
    {
     "name": "stdout",
     "output_type": "stream",
     "text": [
      "data/Incoming/c/07e6e9bfe90bf4905fa2723b4a14377a.c  to nie unikod lub  'utf-8' codec can't decode byte 0xb3 in position 76475: invalid start byte\ndata/Incoming/c/5786bc002703e66208f8c0467769a46b.c  to nie unikod lub  'utf-8' codec can't decode byte 0xc5 in position 7341: invalid continuation byte\n"
     ]
    },
    {
     "name": "stdout",
     "output_type": "stream",
     "text": [
      "data/Incoming/c/64d8db54f853b19e7a1e0d448a3bfbf2.c  to nie unikod lub  'utf-8' codec can't decode byte 0xe0 in position 14036: invalid continuation byte\n"
     ]
    },
    {
     "name": "stdout",
     "output_type": "stream",
     "text": [
      "data/Incoming/vb/b99555697ed626c72432db66b178fb6c.vb  to nie unikod lub  'utf-8' codec can't decode byte 0xff in position 0: invalid start byte\ndata/Incoming/vb/02a4af0d89c4a8d6bdef83418f305503.vb  to nie unikod lub  'utf-8' codec can't decode byte 0xa3 in position 7741: invalid start byte\ndata/Incoming/vb/e5186111359526c4ec9673f92bcdde5e.vb  to nie unikod lub  'utf-8' codec can't decode byte 0xa3 in position 9277: invalid start byte\ndata/Incoming/vb/e1c3b157c490611f90cb3f379b32210f.vb  to nie unikod lub  'utf-8' codec can't decode byte 0xa3 in position 4237: invalid start byte\ndata/Incoming/pl/44ef4283aa821ad9be31f4417f35d7f8.pl  to nie unikod lub  'utf-8' codec can't decode byte 0xb4 in position 138: invalid start byte\n"
     ]
    }
   ],
   "source": [
    "allowed_types = ['js', 'vb', 'pl', 'php', 'cpp', 'c', 'bat', 'awk', 'py', 'rb', 'java', 'h', 'hpp', 'asm', 'cc','sh', 'scala']\n",
    "translate = {'hpp':'cpp', 'h':'c', 'cc':'cpp'}\n",
    "root = \"./data/Incoming/\"\n",
    "p = Path(root)\n",
    "allfiles = list(p.glob('*/*'))\n",
    "for f in allfiles:\n",
    "    if f.parts[2] in allowed_types:\n",
    "        with f.open(mode='r') as fh:\n",
    "            try:\n",
    "                content = fh.read()\n",
    "                if f.parts[2] in translate.keys():\n",
    "                    insert_file(translate[f.parts[2]], content, hashlib.md5(content.encode()).hexdigest())\n",
    "                else:\n",
    "                    insert_file(f.parts[2],content, hashlib.md5(content.encode()).hexdigest())\n",
    "            except Exception as e:\n",
    "                print(f,\" to nie unikod lub \" , e)"
   ]
  },
  {
   "cell_type": "code",
   "execution_count": 97,
   "metadata": {},
   "outputs": [],
   "source": [
    "from collections import Counter\n",
    "d = files.find({})\n",
    "for f in d:\n",
    "    cleaned = f['content'].replace(\".\",\"\").replace(\"$\", \"\").replace(\"\\0\", \"\")\n",
    "    c = Counter(cleaned)\n",
    "    simple_stat = {'occurrences':{}}\n",
    "    for char, count in c.items():\n",
    "        simple_stat['occurrences'][char] = count\n",
    "    if 'stats' not in f.keys():\n",
    "        f['stats'] = {}\n",
    "    f['stats']['simple'] = simple_stat\n",
    "    files.replace_one({'_id':f['_id']}, f)"
   ]
  },
  {
   "cell_type": "code",
   "execution_count": 9,
   "metadata": {
    "collapsed": true
   },
   "outputs": [
    {
     "data": {
      "text/plain": [
       "50069"
      ]
     },
     "execution_count": 9,
     "metadata": {},
     "output_type": "execute_result"
    }
   ],
   "source": [
    "d = files.find({})\n",
    "u = list(d)\n",
    "len(u)"
   ]
  },
  {
   "cell_type": "code",
   "execution_count": 68,
   "metadata": {},
   "outputs": [
    {
     "data": {
      "text/plain": [
       "1835"
      ]
     },
     "execution_count": 68,
     "metadata": {},
     "output_type": "execute_result"
    }
   ],
   "source": [
    "d.count()"
   ]
  },
  {
   "cell_type": "code",
   "execution_count": null,
   "metadata": {},
   "outputs": [],
   "source": [
    ""
   ]
  }
 ],
 "metadata": {
  "kernelspec": {
   "display_name": "Python 2",
   "language": "python",
   "name": "python2"
  },
  "language_info": {
   "codemirror_mode": {
    "name": "ipython",
    "version": 2.0
   },
   "file_extension": ".py",
   "mimetype": "text/x-python",
   "name": "python",
   "nbconvert_exporter": "python",
   "pygments_lexer": "ipython2",
   "version": "2.7.6"
  }
 },
 "nbformat": 4,
 "nbformat_minor": 0
}