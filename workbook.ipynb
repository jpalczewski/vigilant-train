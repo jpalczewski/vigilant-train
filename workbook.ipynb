{
 "cells": [
  {
   "cell_type": "code",
   "execution_count": 5,
   "metadata": {
    "collapsed": true
   },
   "outputs": [],
   "source": [
    "import pymongo\n",
    "import os\n",
    "from pathlib import Path\n",
    "import hashlib"
   ]
  },
  {
   "cell_type": "code",
   "execution_count": 2,
   "metadata": {},
   "outputs": [],
   "source": [
    "client = pymongo.MongoClient('mongodb://localhost:27017/')\n",
    "files = client.files.files\n",
    "\n",
    "def insert_file(language, content, hash):\n",
    "        files.insert_one({'language':language, 'content':content, 'hash': hash})"
   ]
  },
  {
   "cell_type": "code",
   "execution_count": 25,
   "metadata": {
    "collapsed": true
   },
   "outputs": [
    {
     "name": "stdout",
     "output_type": "stream",
     "text": [
      "data/Incoming/php/6f0a3d686fd6086e553ab77602ba2475.php  to nie unikod lub  'utf-8' codec can't decode byte 0xef in position 807: invalid continuation byte\ndata/Incoming/php/86959596195fbea17d78ed73a2251692.php  to nie unikod lub  'utf-8' codec can't decode byte 0xc9 in position 71: invalid continuation byte\n"
     ]
    },
    {
     "name": "stdout",
     "output_type": "stream",
     "text": [
      "data/Incoming/php/1538f0c18683fac88397a90327ef486e.php  to nie unikod lub  'utf-8' codec can't decode byte 0xa7 in position 39834: invalid start byte\ndata/Incoming/php/6fdae8fe005eeb51e868d6eb50c88e08.php  to nie unikod lub  'utf-8' codec can't decode byte 0xf0 in position 1246: invalid continuation byte\ndata/Incoming/php/70c8201b08e791fd9b4a406e6bae675b.php  to nie unikod lub  'utf-8' codec can't decode byte 0xf0 in position 75: invalid continuation byte\ndata/Incoming/php/fe3fd12f9d9344446f140a5a7038ac6f.php  to nie unikod lub  'utf-8' codec can't decode byte 0xf0 in position 126: invalid continuation byte\ndata/Incoming/php/72515a17a90dc75d8b7e8096a03f81cc.php  to nie unikod lub  'utf-8' codec can't decode byte 0xe9 in position 82776: invalid continuation byte\ndata/Incoming/php/f1110eb4c9cf673ec837e44b07fae06a.php  to nie unikod lub  'utf-8' codec can't decode byte 0xe6 in position 306: invalid continuation byte\ndata/Incoming/php/a543c407ae20bd085fab4cbbe3c6d34a.php  to nie unikod lub  'utf-8' codec can't decode byte 0xf3 in position 95: invalid continuation byte\ndata/Incoming/php/227c810140f95299c24de292e6caeee1.php  to nie unikod lub  'utf-8' codec can't decode byte 0xe6 in position 557: invalid continuation byte\ndata/Incoming/php/5299a2e8a2930a3ab4680abca564f2b6.php  to nie unikod lub  'utf-8' codec can't decode byte 0xed in position 631: invalid continuation byte\ndata/Incoming/php/4f528afe85e4565ce018c8c244a6159a.php  to nie unikod lub  'utf-8' codec can't decode byte 0x95 in position 847: invalid start byte\ndata/Incoming/php/621703ac6887cbfe8be2506ce96d567a.php  to nie unikod lub  'utf-8' codec can't decode byte 0xc1 in position 180: invalid start byte\ndata/Incoming/php/2ae35cc2d323a13f64b2757026483687.php  to nie unikod lub  'utf-8' codec can't decode byte 0xf6 in position 1853: invalid start byte\ndata/Incoming/php/771b5f84aefda0b9e03513f15cf4dee5.php  to nie unikod lub  'utf-8' codec can't decode byte 0xfa in position 1143: invalid start byte\ndata/Incoming/php/de7b3ba5129d2a37af082d65c9c82652.php  to nie unikod lub  'utf-8' codec can't decode byte 0xf0 in position 64: invalid continuation byte\ndata/Incoming/php/553c8bd594a9c193a0be8cbceb6a3ab2.php  to nie unikod lub  'utf-8' codec can't decode byte 0xe1 in position 792: invalid continuation byte\ndata/Incoming/php/85b171ee522e53ecc4b5ce654652b8a2.php  to nie unikod lub  'utf-8' codec can't decode byte 0xe6 in position 264: invalid continuation byte\ndata/Incoming/php/c20784826f3188b7776eb5bb9e25f407.php  to nie unikod lub  'utf-8' codec can't decode byte 0xfd in position 594: invalid start byte\ndata/Incoming/php/cf518b846b57a560145e12d324f9e423.php  to nie unikod lub  'utf-8' codec can't decode byte 0xe1 in position 602: invalid continuation byte\ndata/Incoming/php/3fe438b3b4dc0138d8822f60d131be68.php  to nie unikod lub  'utf-8' codec can't decode byte 0xf3 in position 145: invalid continuation byte\ndata/Incoming/php/fdeadfd47f17ab27ed1d718878922285.php  to nie unikod lub  'utf-8' codec can't decode byte 0xed in position 644: invalid continuation byte\ndata/Incoming/php/c16ba85cbe8c214a013875773b6eec9d.php  to nie unikod lub  'utf-8' codec can't decode byte 0xf0 in position 164: invalid continuation byte\ndata/Incoming/php/22c367c89c0382a3f5c7d4e1178bc0ad.php  to nie unikod lub  'utf-8' codec can't decode byte 0xf0 in position 164: invalid continuation byte\ndata/Incoming/php/8de4f1b8cc368412303564ac66570a7f.php  to nie unikod lub  'utf-8' codec can't decode byte 0xe1 in position 810: invalid continuation byte\ndata/Incoming/php/51583070f75a8d8831018f8ba4cbbf01.php  to nie unikod lub  'utf-8' codec can't decode byte 0xde in position 105: invalid continuation byte\ndata/Incoming/php/9c81c3112ebed4d5632972584f140800.php  to nie unikod lub  'utf-8' codec can't decode byte 0xf3 in position 153: invalid continuation byte\ndata/Incoming/php/5fe3aba752e8bddb4885e549125563bf.php  to nie unikod lub  'utf-8' codec can't decode byte 0xf0 in position 254: invalid continuation byte\ndata/Incoming/php/c62143b629841e732e8af09822e450f7.php  to nie unikod lub  'utf-8' codec can't decode byte 0xf0 in position 140: invalid continuation byte\ndata/Incoming/php/616e188f01b421fc046680eb382bcff3.php  to nie unikod lub  'utf-8' codec can't decode byte 0xf3 in position 81: invalid continuation byte\ndata/Incoming/php/c69400ec551e655674114c2fa806dc1f.php  to nie unikod lub  'utf-8' codec can't decode byte 0xf3 in position 69: invalid continuation byte\ndata/Incoming/php/680fd0e98f2ef36fa11ecbb065fe2ade.php  to nie unikod lub  'utf-8' codec can't decode byte 0xf6 in position 235: invalid start byte\ndata/Incoming/php/bece4cb33faf8f20c6cfccfff5c8e734.php  to nie unikod lub  'utf-8' codec can't decode byte 0xf0 in position 106: invalid continuation byte\ndata/Incoming/php/d58c05868c78a7e52733e570a7f47aad.php  to nie unikod lub  'utf-8' codec can't decode byte 0xf0 in position 131: invalid continuation byte\ndata/Incoming/php/20b06668a4e820420cd188c901ffd88c.php  to nie unikod lub  'utf-8' codec can't decode byte 0xf0 in position 212: invalid continuation byte\ndata/Incoming/php/e4ad0bbca790e53e53b757bae4de4da8.php  to nie unikod lub  'utf-8' codec can't decode byte 0xf0 in position 683: invalid continuation byte\ndata/Incoming/php/5c86a18514448b206d936acec847e880.php  to nie unikod lub  'utf-8' codec can't decode byte 0xc1 in position 21: invalid start byte\ndata/Incoming/php/7cdc624a0fa9fdb2b0b69e400c0fba24.php  to nie unikod lub  'utf-8' codec can't decode byte 0xde in position 443: invalid continuation byte\ndata/Incoming/php/ba061f365c80fe51518300b27cf7a676.php  to nie unikod lub  'utf-8' codec can't decode byte 0xf0 in position 120: invalid continuation byte\ndata/Incoming/php/de69a0d9cf8b8addaf4f8aef79a6ad37.php  to nie unikod lub  'utf-8' codec can't decode byte 0xf6 in position 138: invalid start byte\ndata/Incoming/php/4b1b126eb4ba5bae77ffb62445939ddc.php  to nie unikod lub  'utf-8' codec can't decode byte 0xf0 in position 140: invalid continuation byte\ndata/Incoming/php/d7a1a691ff84328aa149ddda6b520673.php  to nie unikod lub  'utf-8' codec can't decode byte 0xe1 in position 1402: invalid continuation byte\ndata/Incoming/php/85f49afcaebb6a535de4306085b39638.php  to nie unikod lub  'utf-8' codec can't decode byte 0xb0 in position 88: invalid start byte\ndata/Incoming/php/233ac3c9c9ca5f02ebb6de50e127873f.php  to nie unikod lub  'utf-8' codec can't decode byte 0xc1 in position 14: invalid start byte\ndata/Incoming/php/3b95d652bb8ab2f4b2686abc4ae3ce66.php  to nie unikod lub  'utf-8' codec can't decode byte 0xb4 in position 78: invalid start byte\ndata/Incoming/php/c7e4d63a72ff88e3e935202abd5151da.php  to nie unikod lub  'utf-8' codec can't decode byte 0xb6 in position 39: invalid start byte\n"
     ]
    },
    {
     "name": "stdout",
     "output_type": "stream",
     "text": [
      "data/Incoming/php/ba7a98e9107af5bbc562a058bee5de69.php  to nie unikod lub  'utf-8' codec can't decode byte 0xb5 in position 312: invalid start byte\ndata/Incoming/php/c766c2b5e9fbef078793cbe28369b6ca.php  to nie unikod lub  'utf-8' codec can't decode byte 0xb5 in position 1712: invalid start byte\ndata/Incoming/php/dc8f137cd66c1fee00e983226cd035e6.php  to nie unikod lub  'utf-8' codec can't decode byte 0xc9 in position 39: invalid continuation byte\n"
     ]
    },
    {
     "name": "stdout",
     "output_type": "stream",
     "text": [
      "data/Incoming/php/570ffac8f5f9dc2b320c67d9d9aec137.php  to nie unikod lub  'utf-8' codec can't decode byte 0xed in position 600: invalid continuation byte\ndata/Incoming/php/32ccf46e83057ce26a7521ce2dfe07b0.php  to nie unikod lub  'utf-8' codec can't decode byte 0xed in position 30: invalid continuation byte\ndata/Incoming/php/c2f4fb2916c7728c4b56f1a4f46e6b4f.php  to nie unikod lub  'utf-8' codec can't decode byte 0x84 in position 1030: invalid start byte\ndata/Incoming/php/48c06837f56b0d30de7665f339c11148.php  to nie unikod lub  'utf-8' codec can't decode byte 0xf3 in position 921: invalid continuation byte\ndata/Incoming/php/be7e3a30d1a0f2d09a26f0a07c834b7e.php  to nie unikod lub  'utf-8' codec can't decode byte 0x84 in position 1030: invalid start byte\ndata/Incoming/php/0a6469e5bd01a8415445cadb5fe6f4fd.php  to nie unikod lub  'utf-8' codec can't decode byte 0xa3 in position 420: invalid start byte\ndata/Incoming/php/8ae01949832ac4577f7f7692a791656f.php  to nie unikod lub  'utf-8' codec can't decode byte 0x84 in position 1030: invalid start byte\n"
     ]
    }
   ],
   "source": [
    "#allowed_types = ['js', 'vb', 'pl', 'php', 'cpp', 'c', 'bat', 'awk', 'py', 'rb', 'java', 'h', 'hpp', 'asm', 'cc','sh', 'scala']\n",
    "allowed_types = ['php']\n",
    "translate = {'hpp':'cpp', 'h':'c', 'cc':'cpp'}\n",
    "root = \"./data/Incoming/\"\n",
    "p = Path(root)\n",
    "allfiles = list(p.glob('*/*'))\n",
    "for f in allfiles:\n",
    "    if f.parts[2] in allowed_types:\n",
    "        with f.open(mode='r') as fh:\n",
    "            try:\n",
    "                content = fh.read()\n",
    "                if f.parts[2] in translate.keys():\n",
    "                    insert_file(translate[f.parts[2]], content, hashlib.md5(content.encode()).hexdigest())\n",
    "                else:\n",
    "                    insert_file(f.parts[2],content, hashlib.md5(content.encode()).hexdigest())\n",
    "            except Exception as e:\n",
    "                print(f,\" to nie unikod lub \" , e)"
   ]
  },
  {
   "cell_type": "code",
   "execution_count": 97,
   "metadata": {},
   "outputs": [],
   "source": [
    "from collections import Counter\n",
    "d = files.find({})\n",
    "for f in d:\n",
    "    cleaned = f['content'].replace(\".\",\"\").replace(\"$\", \"\").replace(\"\\0\", \"\")\n",
    "    c = Counter(cleaned)\n",
    "    simple_stat = {'occurrences':{}}\n",
    "    for char, count in c.items():\n",
    "        simple_stat['occurrences'][char] = count\n",
    "    if 'stats' not in f.keys():\n",
    "        f['stats'] = {}\n",
    "    f['stats']['simple'] = simple_stat\n",
    "    files.replace_one({'_id':f['_id']}, f)"
   ]
  },
  {
   "cell_type": "code",
   "execution_count": 22,
   "metadata": {
    "collapsed": true
   },
   "outputs": [
    {
     "name": "stdout",
     "output_type": "stream",
     "text": [
      "asd\n"
     ]
    }
   ],
   "source": [
    "import re\n",
    "p = re.compile('(\\$|\\.|\\0)')\n",
    "str = \"$$$..asd$$$\"\n",
    "a = p.sub(\"\", str)\n",
    "print(a)"
   ]
  },
  {
   "cell_type": "code",
   "execution_count": 68,
   "metadata": {},
   "outputs": [
    {
     "data": {
      "text/plain": [
       "1835"
      ]
     },
     "execution_count": 68,
     "metadata": {},
     "output_type": "execute_result"
    }
   ],
   "source": [
    "d.count()"
   ]
  },
  {
   "cell_type": "code",
   "execution_count": null,
   "metadata": {},
   "outputs": [],
   "source": [
    ""
   ]
  }
 ],
 "metadata": {
  "kernelspec": {
   "display_name": "Python 2",
   "language": "python",
   "name": "python2"
  },
  "language_info": {
   "codemirror_mode": {
    "name": "ipython",
    "version": 2.0
   },
   "file_extension": ".py",
   "mimetype": "text/x-python",
   "name": "python",
   "nbconvert_exporter": "python",
   "pygments_lexer": "ipython2",
   "version": "2.7.6"
  }
 },
 "nbformat": 4,
 "nbformat_minor": 0
}